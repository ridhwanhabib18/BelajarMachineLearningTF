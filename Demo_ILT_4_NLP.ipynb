{
  "nbformat": 4,
  "nbformat_minor": 0,
  "metadata": {
    "colab": {
      "name": "Demo-ILT 4-NLP",
      "provenance": [],
      "include_colab_link": true
    },
    "kernelspec": {
      "name": "python3",
      "display_name": "Python 3"
    },
    "language_info": {
      "name": "python"
    },
    "accelerator": "GPU"
  },
  "cells": [
    {
      "cell_type": "markdown",
      "metadata": {
        "id": "view-in-github",
        "colab_type": "text"
      },
      "source": [
        "<a href=\"https://colab.research.google.com/github/ridhwanhabib18/BelajarMachineLearningTF/blob/main/Demo_ILT_4_NLP.ipynb\" target=\"_parent\"><img src=\"https://colab.research.google.com/assets/colab-badge.svg\" alt=\"Open In Colab\"/></a>"
      ]
    },
    {
      "cell_type": "markdown",
      "source": [
        "# Natural Language Processing"
      ],
      "metadata": {
        "id": "3U6mH_rlEk23"
      }
    },
    {
      "cell_type": "markdown",
      "source": [
        "This tutorial demonstrates text classification on a dataset of bbc-text. \n"
      ],
      "metadata": {
        "id": "0Grz4MYNEi_4"
      }
    },
    {
      "cell_type": "markdown",
      "source": [
        "## Import TensorFlow"
      ],
      "metadata": {
        "id": "gylTQPEIFeBH"
      }
    },
    {
      "cell_type": "code",
      "source": [
        "import csv\n",
        "import tensorflow as tf\n",
        "import numpy as np\n",
        "from tensorflow.keras.preprocessing.text import Tokenizer\n",
        "from tensorflow.keras.preprocessing.sequence import pad_sequences\n",
        "from tensorflow.keras import layers, models, optimizers\n",
        "import matplotlib.pyplot as plt\n",
        "\n",
        "\n",
        "# bbc-text.csv\n",
        "!gdown --id 1rX10xeI3eUJmOLsc4pOPY6AnCLO8DxNj"
      ],
      "metadata": {
        "colab": {
          "base_uri": "https://localhost:8080/"
        },
        "id": "fiSDH93MFa1S",
        "outputId": "1209f585-0d02-4100-b448-fb9201a49246"
      },
      "execution_count": null,
      "outputs": [
        {
          "output_type": "stream",
          "name": "stdout",
          "text": [
            "Downloading...\n",
            "From: https://drive.google.com/uc?id=1rX10xeI3eUJmOLsc4pOPY6AnCLO8DxNj\n",
            "To: /content/bbc-text.csv\n",
            "\r  0% 0.00/5.06M [00:00<?, ?B/s]\r100% 5.06M/5.06M [00:00<00:00, 138MB/s]\n"
          ]
        }
      ]
    },
    {
      "cell_type": "markdown",
      "source": [
        "## Prepare the dataset for training"
      ],
      "metadata": {
        "id": "p_5P1A6CGOlQ"
      }
    },
    {
      "cell_type": "code",
      "source": [
        "vocab_size = 1000\n",
        "embedding_dim = 16\n",
        "max_length = 120\n",
        "trunc_type='post'\n",
        "padding_type='post'\n",
        "oov_tok = \"<OOV>\"\n",
        "training_portion = .8"
      ],
      "metadata": {
        "id": "syeqISURF1C1"
      },
      "execution_count": null,
      "outputs": []
    },
    {
      "cell_type": "code",
      "source": [
        "sentences = []\n",
        "labels = []\n",
        "stopwords = [ \"a\", \"about\", \"above\", \"after\", \"again\", \"against\", \"all\", \"am\", \"an\", \"and\", \"any\", \"are\", \"as\", \"at\", \"be\", \"because\", \"been\", \"before\", \"being\", \"below\", \"between\", \"both\", \"but\", \"by\", \"could\", \"did\", \"do\", \"does\", \"doing\", \"down\", \"during\", \"each\", \"few\", \"for\", \"from\", \"further\", \"had\", \"has\", \"have\", \"having\", \"he\", \"he'd\", \"he'll\", \"he's\", \"her\", \"here\", \"here's\", \"hers\", \"herself\", \"him\", \"himself\", \"his\", \"how\", \"how's\", \"i\", \"i'd\", \"i'll\", \"i'm\", \"i've\", \"if\", \"in\", \"into\", \"is\", \"it\", \"it's\", \"its\", \"itself\", \"let's\", \"me\", \"more\", \"most\", \"my\", \"myself\", \"nor\", \"of\", \"on\", \"once\", \"only\", \"or\", \"other\", \"ought\", \"our\", \"ours\", \"ourselves\", \"out\", \"over\", \"own\", \"same\", \"she\", \"she'd\", \"she'll\", \"she's\", \"should\", \"so\", \"some\", \"such\", \"than\", \"that\", \"that's\", \"the\", \"their\", \"theirs\", \"them\", \"themselves\", \"then\", \"there\", \"there's\", \"these\", \"they\", \"they'd\", \"they'll\", \"they're\", \"they've\", \"this\", \"those\", \"through\", \"to\", \"too\", \"under\", \"until\", \"up\", \"very\", \"was\", \"we\", \"we'd\", \"we'll\", \"we're\", \"we've\", \"were\", \"what\", \"what's\", \"when\", \"when's\", \"where\", \"where's\", \"which\", \"while\", \"who\", \"who's\", \"whom\", \"why\", \"why's\", \"with\", \"would\", \"you\", \"you'd\", \"you'll\", \"you're\", \"you've\", \"your\", \"yours\", \"yourself\", \"yourselves\" ]"
      ],
      "metadata": {
        "id": "asM8BFDYGbZL"
      },
      "execution_count": null,
      "outputs": []
    },
    {
      "cell_type": "code",
      "source": [
        "with open(\"./bbc-text.csv\", 'r') as csvfile:\n",
        "    reader = csv.reader(csvfile, delimiter=',')\n",
        "    next(reader)\n",
        "    for row in reader:\n",
        "        labels.append(row[0])\n",
        "        sentence = row[1]\n",
        "        for word in stopwords:\n",
        "            token = \" \" + word + \" \"\n",
        "            sentence = sentence.replace(token, \" \")\n",
        "        sentences.append(sentence)"
      ],
      "metadata": {
        "id": "2CbLmukrGcEl"
      },
      "execution_count": null,
      "outputs": []
    },
    {
      "cell_type": "code",
      "source": [
        "train_size = int(len(sentences) * training_portion)\n",
        "\n",
        "train_sentences = sentences[:train_size]\n",
        "train_labels = labels[:train_size]\n",
        "\n",
        "validation_sentences = sentences[train_size:]\n",
        "validation_labels = labels[train_size:]"
      ],
      "metadata": {
        "id": "hSw_mrdaGjed"
      },
      "execution_count": null,
      "outputs": []
    },
    {
      "cell_type": "code",
      "source": [
        "tokenizer = Tokenizer(num_words = vocab_size, oov_token=oov_tok)\n",
        "tokenizer.fit_on_texts(train_sentences)\n",
        "word_index = tokenizer.word_index\n",
        "\n",
        "train_sequences = tokenizer.texts_to_sequences(train_sentences)\n",
        "train_padded = pad_sequences(train_sequences, padding=padding_type, maxlen=max_length)\n",
        "\n",
        "validation_sequences = tokenizer.texts_to_sequences(validation_sentences)\n",
        "validation_padded = pad_sequences(validation_sequences, padding=padding_type, maxlen=max_length)"
      ],
      "metadata": {
        "id": "6-HIUTupGsnZ"
      },
      "execution_count": null,
      "outputs": []
    },
    {
      "cell_type": "code",
      "source": [
        "label_tokenizer = Tokenizer()\n",
        "label_tokenizer.fit_on_texts(labels)\n",
        "\n",
        "training_label_seq = np.array(label_tokenizer.texts_to_sequences(train_labels))\n",
        "validation_label_seq = np.array(label_tokenizer.texts_to_sequences(validation_labels))"
      ],
      "metadata": {
        "id": "cGzshjYaHDjL"
      },
      "execution_count": null,
      "outputs": []
    },
    {
      "cell_type": "markdown",
      "source": [
        "## Create the model"
      ],
      "metadata": {
        "id": "ZBIrhvkXHqyD"
      }
    },
    {
      "cell_type": "code",
      "source": [
        "def create_model(vocab_size, embedding_dim, max_length):\n",
        "  model = models.Sequential([\n",
        "  layers.Embedding(vocab_size, embedding_dim, input_length=max_length),\n",
        "  layers.GlobalAveragePooling1D(),\n",
        "  layers.Dense(24, activation='relu'),\n",
        "  layers.Dense(6, activation='softmax')\n",
        "  ])\n",
        "\n",
        "  model.compile(loss=tf.keras.losses.SparseCategoricalCrossentropy(),\n",
        "                optimizer=optimizers.Adam(),\n",
        "                metrics=['accuracy'])\n",
        "  \n",
        "  return model"
      ],
      "metadata": {
        "id": "Ir3Ga0YTHh-_"
      },
      "execution_count": null,
      "outputs": []
    },
    {
      "cell_type": "code",
      "source": [
        "model = create_model(vocab_size, embedding_dim, max_length)\n",
        "model.summary()"
      ],
      "metadata": {
        "colab": {
          "base_uri": "https://localhost:8080/"
        },
        "id": "eLsOaDsRIaSn",
        "outputId": "0c64df92-4eb5-43fc-c8de-e34f35260284"
      },
      "execution_count": null,
      "outputs": [
        {
          "output_type": "stream",
          "name": "stdout",
          "text": [
            "Model: \"sequential\"\n",
            "_________________________________________________________________\n",
            " Layer (type)                Output Shape              Param #   \n",
            "=================================================================\n",
            " embedding (Embedding)       (None, 120, 16)           16000     \n",
            "                                                                 \n",
            " global_average_pooling1d (G  (None, 16)               0         \n",
            " lobalAveragePooling1D)                                          \n",
            "                                                                 \n",
            " dense (Dense)               (None, 24)                408       \n",
            "                                                                 \n",
            " dense_1 (Dense)             (None, 6)                 150       \n",
            "                                                                 \n",
            "=================================================================\n",
            "Total params: 16,558\n",
            "Trainable params: 16,558\n",
            "Non-trainable params: 0\n",
            "_________________________________________________________________\n"
          ]
        }
      ]
    },
    {
      "cell_type": "markdown",
      "source": [
        "## Train & evaluate the model"
      ],
      "metadata": {
        "id": "bBP0AA0YR1q7"
      }
    },
    {
      "cell_type": "code",
      "source": [
        "num_epochs = 30\n",
        "history = model.fit(train_padded, training_label_seq, \n",
        "                    epochs=num_epochs, \n",
        "                    validation_data=(validation_padded, validation_label_seq))"
      ],
      "metadata": {
        "colab": {
          "base_uri": "https://localhost:8080/"
        },
        "id": "SjoRmsjYIiYY",
        "outputId": "81cf3b5b-6637-4a5f-d139-7c65e633169c"
      },
      "execution_count": null,
      "outputs": [
        {
          "output_type": "stream",
          "name": "stdout",
          "text": [
            "Epoch 1/30\n",
            "56/56 [==============================] - 3s 9ms/step - loss: 1.7707 - accuracy: 0.2287 - val_loss: 1.7459 - val_accuracy: 0.2270\n",
            "Epoch 2/30\n",
            "56/56 [==============================] - 0s 6ms/step - loss: 1.7078 - accuracy: 0.2309 - val_loss: 1.6656 - val_accuracy: 0.2360\n",
            "Epoch 3/30\n",
            "56/56 [==============================] - 0s 7ms/step - loss: 1.6041 - accuracy: 0.2994 - val_loss: 1.5490 - val_accuracy: 0.3978\n",
            "Epoch 4/30\n",
            "56/56 [==============================] - 0s 7ms/step - loss: 1.4623 - accuracy: 0.4365 - val_loss: 1.3970 - val_accuracy: 0.4764\n",
            "Epoch 5/30\n",
            "56/56 [==============================] - 0s 6ms/step - loss: 1.2899 - accuracy: 0.5118 - val_loss: 1.2219 - val_accuracy: 0.5348\n",
            "Epoch 6/30\n",
            "56/56 [==============================] - 0s 6ms/step - loss: 1.1108 - accuracy: 0.6073 - val_loss: 1.0590 - val_accuracy: 0.6449\n",
            "Epoch 7/30\n",
            "56/56 [==============================] - 0s 6ms/step - loss: 0.9464 - accuracy: 0.7343 - val_loss: 0.9182 - val_accuracy: 0.7551\n",
            "Epoch 8/30\n",
            "56/56 [==============================] - 0s 6ms/step - loss: 0.7935 - accuracy: 0.8225 - val_loss: 0.7914 - val_accuracy: 0.7933\n",
            "Epoch 9/30\n",
            "56/56 [==============================] - 0s 6ms/step - loss: 0.6706 - accuracy: 0.8517 - val_loss: 0.6937 - val_accuracy: 0.8180\n",
            "Epoch 10/30\n",
            "56/56 [==============================] - 0s 6ms/step - loss: 0.5776 - accuracy: 0.8719 - val_loss: 0.6273 - val_accuracy: 0.8157\n",
            "Epoch 11/30\n",
            "56/56 [==============================] - 0s 6ms/step - loss: 0.5074 - accuracy: 0.8888 - val_loss: 0.5746 - val_accuracy: 0.8472\n",
            "Epoch 12/30\n",
            "56/56 [==============================] - 0s 6ms/step - loss: 0.4512 - accuracy: 0.8944 - val_loss: 0.5274 - val_accuracy: 0.8449\n",
            "Epoch 13/30\n",
            "56/56 [==============================] - 0s 6ms/step - loss: 0.4055 - accuracy: 0.9090 - val_loss: 0.4944 - val_accuracy: 0.8472\n",
            "Epoch 14/30\n",
            "56/56 [==============================] - 0s 7ms/step - loss: 0.3673 - accuracy: 0.9152 - val_loss: 0.4637 - val_accuracy: 0.8674\n",
            "Epoch 15/30\n",
            "56/56 [==============================] - 0s 6ms/step - loss: 0.3325 - accuracy: 0.9225 - val_loss: 0.4377 - val_accuracy: 0.8764\n",
            "Epoch 16/30\n",
            "56/56 [==============================] - 0s 7ms/step - loss: 0.3033 - accuracy: 0.9309 - val_loss: 0.4170 - val_accuracy: 0.8831\n",
            "Epoch 17/30\n",
            "56/56 [==============================] - 0s 6ms/step - loss: 0.2771 - accuracy: 0.9393 - val_loss: 0.3997 - val_accuracy: 0.8831\n",
            "Epoch 18/30\n",
            "56/56 [==============================] - 0s 6ms/step - loss: 0.2539 - accuracy: 0.9455 - val_loss: 0.3858 - val_accuracy: 0.8787\n",
            "Epoch 19/30\n",
            "56/56 [==============================] - 0s 6ms/step - loss: 0.2334 - accuracy: 0.9444 - val_loss: 0.3685 - val_accuracy: 0.8899\n",
            "Epoch 20/30\n",
            "56/56 [==============================] - 0s 6ms/step - loss: 0.2152 - accuracy: 0.9517 - val_loss: 0.3568 - val_accuracy: 0.8944\n",
            "Epoch 21/30\n",
            "56/56 [==============================] - 0s 6ms/step - loss: 0.1976 - accuracy: 0.9545 - val_loss: 0.3471 - val_accuracy: 0.8921\n",
            "Epoch 22/30\n",
            "56/56 [==============================] - 0s 6ms/step - loss: 0.1833 - accuracy: 0.9607 - val_loss: 0.3385 - val_accuracy: 0.9011\n",
            "Epoch 23/30\n",
            "56/56 [==============================] - 0s 6ms/step - loss: 0.1685 - accuracy: 0.9669 - val_loss: 0.3313 - val_accuracy: 0.9034\n",
            "Epoch 24/30\n",
            "56/56 [==============================] - 0s 6ms/step - loss: 0.1557 - accuracy: 0.9691 - val_loss: 0.3253 - val_accuracy: 0.9034\n",
            "Epoch 25/30\n",
            "56/56 [==============================] - 0s 6ms/step - loss: 0.1434 - accuracy: 0.9742 - val_loss: 0.3184 - val_accuracy: 0.9056\n",
            "Epoch 26/30\n",
            "56/56 [==============================] - 0s 7ms/step - loss: 0.1315 - accuracy: 0.9764 - val_loss: 0.3133 - val_accuracy: 0.9101\n",
            "Epoch 27/30\n",
            "56/56 [==============================] - 0s 7ms/step - loss: 0.1207 - accuracy: 0.9781 - val_loss: 0.3027 - val_accuracy: 0.9079\n",
            "Epoch 28/30\n",
            "56/56 [==============================] - 0s 7ms/step - loss: 0.1097 - accuracy: 0.9809 - val_loss: 0.2982 - val_accuracy: 0.9169\n",
            "Epoch 29/30\n",
            "56/56 [==============================] - 0s 7ms/step - loss: 0.0995 - accuracy: 0.9854 - val_loss: 0.2935 - val_accuracy: 0.9124\n",
            "Epoch 30/30\n",
            "56/56 [==============================] - 0s 6ms/step - loss: 0.0908 - accuracy: 0.9871 - val_loss: 0.2907 - val_accuracy: 0.9079\n"
          ]
        }
      ]
    },
    {
      "cell_type": "code",
      "source": [
        "def plot_graphs(history, string):\n",
        "  plt.plot(history.history[string])\n",
        "  plt.plot(history.history['val_'+string])\n",
        "  plt.xlabel(\"Epochs\")\n",
        "  plt.ylabel(string)\n",
        "  plt.legend([string, 'val_'+string])\n",
        "  plt.show()\n",
        "  \n",
        "plot_graphs(history, \"accuracy\")\n",
        "plot_graphs(history, \"loss\")"
      ],
      "metadata": {
        "colab": {
          "base_uri": "https://localhost:8080/",
          "height": 541
        },
        "id": "ptWbaGZ5It3q",
        "outputId": "14d4046d-7159-4780-c3e2-a87941bc2394"
      },
      "execution_count": null,
      "outputs": [
        {
          "output_type": "display_data",
          "data": {
            "image/png": "[encoded data removed]",
            "text/plain": [
              "<Figure size 432x288 with 1 Axes>"
            ]
          },
          "metadata": {
            "needs_background": "light"
          }
        },
        {
          "output_type": "display_data",
          "data": {
            "image/png": "[encoded data removed]",
            "text/plain": [
              "<Figure size 432x288 with 1 Axes>"
            ]
          },
          "metadata": {
            "needs_background": "light"
          }
        }
      ]
    },
    {
      "cell_type": "code",
      "source": [
        ""
      ],
      "metadata": {
        "id": "7dpiuj1yI6Zp"
      },
      "execution_count": null,
      "outputs": []
    }
  ]
}